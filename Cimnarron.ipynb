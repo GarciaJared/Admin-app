{
  "nbformat": 4,
  "nbformat_minor": 0,
  "metadata": {
    "colab": {
      "provenance": [],
      "authorship_tag": "ABX9TyPOPTJmK41I37UOexXO3Q4B",
      "include_colab_link": true
    },
    "kernelspec": {
      "name": "python3",
      "display_name": "Python 3"
    },
    "language_info": {
      "name": "python"
    }
  },
  "cells": [
    {
      "cell_type": "markdown",
      "metadata": {
        "id": "view-in-github",
        "colab_type": "text"
      },
      "source": [
        "<a href=\"https://colab.research.google.com/github/GarciaJared/Admin-app/blob/master/Cimnarron.ipynb\" target=\"_parent\"><img src=\"https://colab.research.google.com/assets/colab-badge.svg\" alt=\"Open In Colab\"/></a>"
      ]
    },
    {
      "cell_type": "markdown",
      "source": [
        "# **Cimarron excercise**"
      ],
      "metadata": {
        "id": "8q1N2wvLI3-o"
      }
    },
    {
      "cell_type": "markdown",
      "source": [
        "Throughout this file you will be able to sight my way to think to try to solve problems out! each cell is going to be explained detailed and sources I used to try to solve!"
      ],
      "metadata": {
        "id": "_awXb9FlMmcp"
      }
    },
    {
      "cell_type": "markdown",
      "source": [
        "**Libraries which were used**"
      ],
      "metadata": {
        "id": "cKq12XnbIy4o"
      }
    },
    {
      "cell_type": "code",
      "execution_count": 26,
      "metadata": {
        "id": "Mi5uADFh1EFz"
      },
      "outputs": [],
      "source": [
        "import pandas as pd\n",
        "import matplotlib.pyplot as plt\n",
        "from scipy import stats #https://scipy.org/\n",
        "from collections import defaultdict #https://docs.python.org/3/library/collections.html"
      ]
    },
    {
      "cell_type": "code",
      "source": [
        "data = [\n",
        "    ('29/01/2023', 'Producto 4', 'Tipo2', 140, 'LT'),\n",
        "    ('10/01/2023', 'Producto 5', 'Tipo2', 60, 'LT'),\n",
        "    ('11/01/2023', 'Producto 5', 'Tipo2', -8, 'LT'),\n",
        "    ('15/01/2023', 'Producto 4', 'Tipo2', 120, 'LT'),\n",
        "    ('26/01/2023', 'Producto 2', 'Tipo1', 80, 'EA'),\n",
        "    ('12/01/2023', 'Producto 5', 'Tipo2', 700, 'LT'),\n",
        "    ('13/01/2023', 'Producto 1', 'Tipo1', 850, 'EA'),\n",
        "    ('06/01/2023', 'Producto 2', 'Tipo1', 104, 'EA'),\n",
        "    ('25/01/2023', 'Producto 2', 'Tipo1', 80, 'EA'),\n",
        "    ('28/01/2023', 'Producto 1', 'Tipo1', 300, 'EA'),\n",
        "    ('25/01/2023', 'Producto 5', 'Tipo2', 268, 'LT'),\n",
        "    ('23/01/2023', 'Producto 3', 'Tipo2', 3, 'EA'),\n",
        "    ('11/01/2023', 'Producto 4', 'Tipo2', 120, 'LT'),\n",
        "    ('28/01/2023', 'Producto 2', 'Tipo1', 80, 'EA'),\n",
        "    ('31/01/2023', 'Producto 2', 'Tipo1', 80, 'EA'),\n",
        "    ('10/01/2023', 'Producto 1', 'Tipo1', 800, 'EA'),\n",
        "    ('07/01/2023', 'Producto 1', 'Tipo1', 800, 'EA'),\n",
        "    ('20/01/2023', 'Producto 4', 'Tipo2', 150, 'LT'),\n",
        "    ('04/01/2023', 'Producto 5', 'Tipo2', 78, 'LT'),\n",
        "    ('30/01/2023', 'Producto 3', 'Tipo2', 6, 'EA'),\n",
        "    ('23/01/2023', 'Producto 1', 'Tipo1', 750, 'EA'),\n",
        "    ('28/01/2023', 'Producto 4', 'Tipo2', 140, 'LT'),\n",
        "    ('17/01/2023', 'Producto 1', 'Tipo1', 850, 'EA'),\n",
        "    ('31/01/2023', 'Producto 3', 'Tipo2', 4, 'EA'),\n",
        "    ('27/01/2023', 'Producto 1', 'Tipo1', 300, 'EA'),\n",
        "    ('20/01/2023', 'Producto 5', 'Tipo2', 3, 'LT'),\n",
        "    ('12/01/2023', 'Producto 4', 'Tipo2', 120, 'LT'),\n",
        "    ('16/01/2023', 'Producto 5', 'Tipo2', 200, 'LT'),\n",
        "    ('14/01/2023', 'Producto 2', 'Tipo1', 184, 'EA'),\n",
        "    ('15/01/2023', 'Producto 5', 'Tipo2', 700, 'LT'),\n",
        "    ('09/01/2023', 'Producto 2', 'Tipo1', 104, 'EA'),\n",
        "    ('17/01/2023', 'Producto 2', 'Tipo1', 184, 'EA'),\n",
        "    ('14/01/2023', 'Producto 1', 'Tipo1', 850, 'EA'),\n",
        "    ('08/01/2023', 'Producto 1', 'Tipo1', 800, 'EA'),\n",
        "    ('22/01/2023', 'Producto 3', 'Tipo2', 3, 'EA'),\n",
        "    ('04/01/2023', 'Producto 1', 'Tipo1', 800, 'EA'),\n",
        "    ('13/01/2023', 'Producto 2', 'Tipo1', 174, 'EA'),\n",
        "    ('26/01/2023', 'Producto 1', 'Tipo1', 300, 'EA'),\n",
        "    ('29/01/2023', 'Producto 1', 'Tipo1', 300, 'EA'),\n",
        "    ('29/01/2023', 'Producto 3', 'Tipo2', 4, 'EA'),\n",
        "    ('19/01/2023', 'Producto 3', 'Tipo2', 4, 'EA'),\n",
        "    ('26/01/2023', 'Producto 4', 'Tipo2', 140, 'LT'),\n",
        "    ('17/01/2023', 'Producto 4', 'Tipo2', 145, 'LT'),\n",
        "    ('17/01/2023', 'Producto 5', 'Tipo2', 360, 'LT'),\n",
        "    ('18/01/2023', 'Producto 3', 'Tipo2', 4, 'EA'),\n",
        "    ('13/01/2023', 'Producto 5', 'Tipo2', 700, 'LT'),\n",
        "    ('22/01/2023', 'Producto 4', 'Tipo2', 150, 'LT'),\n",
        "    ('05/01/2023', 'Producto 2', 'Tipo1', 80, 'EA'),\n",
        "    ('09/01/2023', 'Producto 1', 'Tipo1', 800, 'EA'),\n",
        "    ('16/01/2023', 'Producto 2', 'Tipo1', 184, 'EA'),\n",
        "    ('31/01/2023', 'Producto 4', 'Tipo2', 140, 'LT'),\n",
        "    ('02/01/2023', 'Producto 2', 'Tipo1', 53, 'EA'),\n",
        "    ('23/01/2023', 'Producto 5', 'Tipo2', 3, 'LT'),\n",
        "    ('30/01/2023', 'Producto 2', 'Tipo1', 80, 'EA'),\n",
        "    ('31/01/2023', 'Producto 1', 'Tipo1', 300, 'EA'),\n",
        "    ('14/01/2023', 'Producto 3', 'Tipo2', 2, 'EA'),\n",
        "    ('18/01/2023', 'Producto 4', 'Tipo2', 150, 'LT'),\n",
        "    ('24/01/2023', 'Producto 2', 'Tipo1', 184, 'EA'),\n",
        "    ('25/01/2023', 'Producto 4', 'Tipo2', 140, 'LT'),\n",
        "    ('08/01/2023', 'Producto 5', 'Tipo2', 20, 'LT'),\n",
        "    ('09/01/2023', 'Producto 5', 'Tipo2', 426, 'LT'),\n",
        "    ('24/01/2023', 'Producto 4', 'Tipo2', 140, 'LT'),\n",
        "    ('18/01/2023', 'Producto 5', 'Tipo2', 90, 'LT'),\n",
        "    ('07/01/2023', 'Producto 5', 'Tipo2', 300, 'LT'),\n",
        "    ('02/01/2023', 'Producto 3', 'Tipo2', 5, 'EA'),\n",
        "    ('15/01/2023', 'Producto 3', 'Tipo2', 5, 'EA'),\n",
        "    ('18/01/2023', 'Producto 1', 'Tipo1', 750, 'EA'),\n",
        "    ('27/01/2023', 'Producto 4', 'Tipo2', 140, 'LT'),\n",
        "    ('05/01/2023', 'Producto 5', 'Tipo2', 600, 'LT'),\n",
        "    ('01/01/2023', 'Producto 1', 'Tipo1', 800, 'EA'),\n",
        "    ('19/01/2023', 'Producto 5', 'Tipo2', 70, 'LT'),\n",
        "    ('03/01/2023', 'Producto 3', 'Tipo2', 3, 'EA'),\n",
        "    ('03/01/2023', 'Producto 1', 'Tipo1', 800, 'EA'),\n",
        "    ('21/01/2023', 'Producto 2', 'Tipo1', 184, 'EA'),\n",
        "    ('03/01/2023', 'Producto 5', 'Tipo2', 1, 'LT'),\n",
        "    ('30/01/2023', 'Producto 1', 'Tipo1', 300, 'EA'),\n",
        "    ('15/01/2023', 'Producto 2', 'Tipo1', 184, 'EA'),\n",
        "    ('21/01/2023', 'Producto 3', 'Tipo2', 4, 'EA'),\n",
        "    ('20/01/2023', 'Producto 2', 'Tipo1', 184, 'EA'),\n",
        "    ('02/01/2023', 'Producto 1', 'Tipo1', 800, 'EA'),\n",
        "    ('29/01/2023', 'Producto 5', 'Tipo2', 269, 'LT'),\n",
        "    ('21/01/2023', 'Producto 5', 'Tipo2', 3, 'LT'),\n",
        "    ('09/01/2023', 'Producto 4', 'Tipo2', 115, 'LT'),\n",
        "    ('30/01/2023', 'Producto 4', 'Tipo2', 140, 'LT'),\n",
        "    ('21/01/2023', 'Producto 4', 'Tipo2', 150, 'LT'),\n",
        "    ('22/01/2023', 'Producto 5', 'Tipo2', 3, 'LT'),\n",
        "    ('20/01/2023', 'Producto 3', 'Tipo2', 4, 'EA'),\n",
        "    ('14/01/2023', 'Producto 5', 'Tipo2', 700, 'LT'),\n",
        "    ('19/01/2023', 'Producto 2', 'Tipo1', 184, 'EA'),\n",
        "    ('19/01/2023', 'Producto 1', 'Tipo1', 750, 'EA'),\n",
        "    ('23/01/2023', 'Producto 4', 'Tipo2', 150, 'LT'),\n",
        "    ('02/01/2023', 'Producto 5', 'Tipo2', 90, 'LT'),\n",
        "    ('06/01/2023', 'Producto 5', 'Tipo2', 50, 'LT'),\n",
        "    ('27/01/2023', 'Producto 5', 'Tipo2', 27, 'LT'),\n",
        "    ('16/01/2023', 'Producto 1', 'Tipo1', 850, 'EA'),\n",
        "    ('11/01/2023', 'Producto 1', 'Tipo1', 800, 'EA'),\n",
        "    ('24/01/2023', 'Producto 1', 'Tipo1', 750, 'EA'),\n",
        "    ('04/01/2023', 'Producto 2', 'Tipo1', 80, 'EA'),\n",
        "    ('06/01/2023', 'Producto 1', 'Tipo1', 800, 'EA'),\n",
        "    ('08/01/2023', 'Producto 2', 'Tipo1', 104, 'EA'),\n",
        "    ('17/01/2023', 'Producto 3', 'Tipo2', 4, 'EA'),\n",
        "    ('01/01/2023', 'Producto 2', 'Tipo1', 60, 'EA'),\n",
        "    ('10/01/2023', 'Producto 4', 'Tipo2', 120, 'LT'),\n",
        "    ('26/01/2023', 'Producto 5', 'Tipo2', 65, 'LT'),\n",
        "    ('31/01/2023', 'Producto 5', 'Tipo2', 200, 'LT'),\n",
        "    ('16/01/2023', 'Producto 4', 'Tipo2', 145, 'LT'),\n",
        "    ('23/01/2023', 'Producto 2', 'Tipo1', 184, 'EA'),\n",
        "    ('18/01/2023', 'Producto 2', 'Tipo1', 184, 'EA'),\n",
        "    ('07/01/2023', 'Producto 2', 'Tipo1', 104, 'EA'),\n",
        "    ('30/01/2023', 'Producto 5', 'Tipo2', 3, 'LT'),\n",
        "    ('25/01/2023', 'Producto 1', 'Tipo1', 750, 'EA'),\n",
        "    ('12/01/2023', 'Producto 2', 'Tipo1', 104, 'EA'),\n",
        "    ('12/01/2023', 'Producto 1', 'Tipo1', 850, 'EA'),\n",
        "    ('05/01/2023', 'Producto 1', 'Tipo1', 800, 'EA'),\n",
        "    ('01/01/2023', 'Producto 5', 'Tipo2', 23, 'LT'),\n",
        "    ('04/01/2023', 'Producto 3', 'Tipo2', 4, 'EA'),\n",
        "    ('20/01/2023', 'Producto 1', 'Tipo1', 750, 'EA'),\n",
        "    ('19/01/2023', 'Producto 4', 'Tipo2', 150, 'LT'),\n",
        "    ('27/01/2023', 'Producto 2', 'Tipo1', 80, 'EA'),\n",
        "    ('03/01/2023', 'Producto 2', 'Tipo1', 80, 'EA'),\n",
        "    ('22/01/2023', 'Producto 2', 'Tipo1', 184, 'EA'),\n",
        "    ('10/01/2023', 'Producto 2', 'Tipo1', 104, 'EA'),\n",
        "    ('14/01/2023', 'Producto 4', 'Tipo2', 120, 'LT'),\n",
        "    ('01/01/2023', 'Producto 3', 'Tipo2', 2, 'EA'),\n",
        "    ('28/01/2023', 'Producto 5', 'Tipo2', 269, 'LT'),\n",
        "    ('22/01/2023', 'Producto 1', 'Tipo1', 750, 'EA'),\n",
        "    ('13/01/2023', 'Producto 4', 'Tipo2', 120, 'LT'),\n",
        "    ('29/01/2023', 'Producto 2', 'Tipo1', 80, 'EA'),\n",
        "    ('24/01/2023', 'Producto 5', 'Tipo2', 3, 'LT'),\n",
        "    ('16/01/2023', 'Producto 3', 'Tipo2', 6, 'EA'),\n",
        "    ('15/01/2023', 'Producto 1', 'Tipo1', 850, 'EA'),\n",
        "    ('21/01/2023', 'Producto 1', 'Tipo1', 750, 'EA'),\n",
        "    ('11/01/2023', 'Producto 2', 'Tipo1', 104, 'EA')\n",
        "]\n",
        "#List of tuples"
      ],
      "metadata": {
        "id": "JWuHqJ2C1xYe"
      },
      "execution_count": 27,
      "outputs": []
    },
    {
      "cell_type": "markdown",
      "source": [
        "First of all is to convert the data provided into a useful dataset to can be handled, so to go forward I set the data into AI just to avoid write all data and do not lose time."
      ],
      "metadata": {
        "id": "HAsbTeljJhGs"
      }
    },
    {
      "cell_type": "code",
      "source": [
        "columns = ['Fecha', 'Producto', 'Tipo', 'inventario', 'UM']"
      ],
      "metadata": {
        "id": "bhKHRkhi2R46"
      },
      "execution_count": 28,
      "outputs": []
    },
    {
      "cell_type": "markdown",
      "source": [
        "next step is to abstract the data into columns, so I set the columns as headers"
      ],
      "metadata": {
        "id": "TjdFoW90J3qx"
      }
    },
    {
      "cell_type": "code",
      "source": [
        "df = pd.DataFrame(data, columns=columns)"
      ],
      "metadata": {
        "id": "6I_MCJn-3K7a"
      },
      "execution_count": 29,
      "outputs": []
    },
    {
      "cell_type": "markdown",
      "source": [
        "It is important to convert the data into dataset to can handle it with pandas library, so I used the method DataFrame and as params gets into data and columns"
      ],
      "metadata": {
        "id": "AWzC_E0dKBSV"
      }
    },
    {
      "cell_type": "markdown",
      "source": [
        "# Questions answer section"
      ],
      "metadata": {
        "id": "w-3gQwR7OorM"
      }
    },
    {
      "cell_type": "markdown",
      "source": [
        "**Get the median:**"
      ],
      "metadata": {
        "id": "xVdLUSS4Ot8B"
      }
    },
    {
      "cell_type": "code",
      "source": [
        "df['inventario'] = pd.to_numeric(df['inventario'], errors='coerce') # this property of errors is a MUST without this, does not work, if is invalid parsong will be set as NAN\n",
        "#https://pandas.pydata.org/docs/reference/api/pandas.to_numeric.html#pandas-to-numeric (.to_numeric method)"
      ],
      "metadata": {
        "id": "JGOli4EQ3w2C"
      },
      "execution_count": 30,
      "outputs": []
    },
    {
      "cell_type": "code",
      "source": [
        "median_x_prd = df.groupby('Producto')['inventario'].median()\n",
        "print(median_x_prd)\n",
        "#https://pandas.pydata.org/docs/reference/api/pandas.core.groupby.DataFrameGroupBy.median.html#pandas.core.groupby.DataFrameGroupBy.median"
      ],
      "metadata": {
        "colab": {
          "base_uri": "https://localhost:8080/",
          "height": 0
        },
        "id": "CFI51UiN34VW",
        "outputId": "46a68410-0c18-42fe-da98-a656109c1df1"
      },
      "execution_count": 31,
      "outputs": [
        {
          "output_type": "stream",
          "name": "stdout",
          "text": [
            "Producto\n",
            "Producto 1    800.0\n",
            "Producto 2    104.0\n",
            "Producto 3      4.0\n",
            "Producto 4    140.0\n",
            "Producto 5     78.0\n",
            "Name: inventario, dtype: float64\n"
          ]
        }
      ]
    },
    {
      "cell_type": "markdown",
      "source": [
        "**Get mode**"
      ],
      "metadata": {
        "id": "RwmFyWWKtmjk"
      }
    },
    {
      "cell_type": "code",
      "source": [
        "mode_x_prd = df.groupby('Producto')['inventario'].apply(lambda x: x.mode().iloc[0] if not x.mode().empty else None)\n",
        "print(mode_x_prd)"
      ],
      "metadata": {
        "colab": {
          "base_uri": "https://localhost:8080/",
          "height": 0
        },
        "id": "ZiBONskMtqZN",
        "outputId": "b2a7cbdb-0b26-497b-9c7b-e650429f4b94"
      },
      "execution_count": 32,
      "outputs": [
        {
          "output_type": "stream",
          "name": "stdout",
          "text": [
            "Producto\n",
            "Producto 1    800\n",
            "Producto 2    184\n",
            "Producto 3      4\n",
            "Producto 4    140\n",
            "Producto 5      3\n",
            "Name: inventario, dtype: int64\n"
          ]
        }
      ]
    },
    {
      "cell_type": "markdown",
      "source": [
        "**Get median std:**"
      ],
      "metadata": {
        "id": "XntbqkArO7_5"
      }
    },
    {
      "cell_type": "code",
      "source": [
        "std_x_prd = df.groupby('Producto')['inventario'].std()\n",
        "print(std_x_prd)\n",
        "#https://pandas.pydata.org/docs/reference/api/pandas.core.groupby.DataFrameGroupBy.std.html#pandas.core.groupby.DataFrameGroupBy.std"
      ],
      "metadata": {
        "colab": {
          "base_uri": "https://localhost:8080/",
          "height": 0
        },
        "id": "pjDmA3EZ4bUM",
        "outputId": "88cafae5-c246-4526-81f9-6eb192501a85"
      },
      "execution_count": 33,
      "outputs": [
        {
          "output_type": "stream",
          "name": "stdout",
          "text": [
            "Producto\n",
            "Producto 1    202.072594\n",
            "Producto 2     49.462509\n",
            "Producto 3      1.144038\n",
            "Producto 4     12.487148\n",
            "Producto 5    244.016507\n",
            "Name: inventario, dtype: float64\n"
          ]
        }
      ]
    },
    {
      "cell_type": "markdown",
      "source": [
        "**Get 3rd quantile**"
      ],
      "metadata": {
        "id": "NZGDOuPqPGjI"
      }
    },
    {
      "cell_type": "code",
      "source": [
        "third_quantile_x_prd = df.groupby('Producto')['inventario'].quantile(0.75)\n",
        "print(third_quantile_x_prd)\n",
        "#https://pandas.pydata.org/docs/reference/api/pandas.core.groupby.DataFrameGroupBy.quantile.html#pandas.core.groupby.DataFrameGroupBy.quantile"
      ],
      "metadata": {
        "colab": {
          "base_uri": "https://localhost:8080/",
          "height": 0
        },
        "id": "8LyT2Iw941Zo",
        "outputId": "f41a315b-cfca-44f7-9063-6c3a170ff69d"
      },
      "execution_count": 34,
      "outputs": [
        {
          "output_type": "stream",
          "name": "stdout",
          "text": [
            "Producto\n",
            "Producto 1    800.0\n",
            "Producto 2    184.0\n",
            "Producto 3      4.0\n",
            "Producto 4    147.5\n",
            "Producto 5    284.5\n",
            "Name: inventario, dtype: float64\n"
          ]
        }
      ]
    },
    {
      "cell_type": "markdown",
      "source": [
        "**When first prd reached its maximum level?**\n"
      ],
      "metadata": {
        "id": "o82rMSk5PRsi"
      }
    },
    {
      "cell_type": "code",
      "source": [
        "prd1_df = df[df['Producto'] == 'Producto 1']\n",
        "date_max = prd1_df[prd1_df['inventario'] == prd1_df['inventario'].max()]['Fecha'].values[0] #if not set values does not work\n",
        "print(\"Product 1 got its maximum day:\", date_max)"
      ],
      "metadata": {
        "colab": {
          "base_uri": "https://localhost:8080/",
          "height": 0
        },
        "id": "SMNk-RCh5Kwm",
        "outputId": "f80ea21a-e611-4837-c49a-07faa9a1311d"
      },
      "execution_count": 35,
      "outputs": [
        {
          "output_type": "stream",
          "name": "stdout",
          "text": [
            "Product 1 got its maximum day: 13/01/2023\n"
          ]
        }
      ]
    },
    {
      "cell_type": "markdown",
      "source": [
        "**When 3rd product reached its minimum level?**"
      ],
      "metadata": {
        "id": "Ze-wByP3Pemo"
      }
    },
    {
      "cell_type": "code",
      "source": [
        "prd3_df = df[df['Producto'] == 'Producto 3']\n",
        "date_min = prd3_df[prd3_df['inventario'] == prd3_df['inventario'].min()]['Fecha'].values[0]\n",
        "print(\"Product 3 got its minimum day: \", date_min)\n"
      ],
      "metadata": {
        "colab": {
          "base_uri": "https://localhost:8080/",
          "height": 0
        },
        "id": "yM468CR1GA1c",
        "outputId": "4ce17b77-39df-4367-ea1c-ce6ee67d8db4"
      },
      "execution_count": 36,
      "outputs": [
        {
          "output_type": "stream",
          "name": "stdout",
          "text": [
            "Product 3 got its minimum day:  14/01/2023\n"
          ]
        }
      ]
    },
    {
      "cell_type": "markdown",
      "source": [
        "**Measure correlation between prd1 and prd2, once show up if there's negative or positive correlation and if is important enough**"
      ],
      "metadata": {
        "id": "gQBbdUkMjfio"
      }
    },
    {
      "cell_type": "code",
      "source": [
        "prdto1_df = df[df['Producto'] == 'Producto 1']\n",
        "prdto2_df = df[df['Producto'] == 'Producto 2']\n",
        "\n",
        "correlation, valor_p = stats.pearsonr(prdto1_df['inventario'], prdto2_df['inventario'])\n",
        "\n",
        "print(\"Correlation between prd 1 and prd 2 is:\", correlation)\n",
        "\n",
        "if correlation > 0:\n",
        "    print(\"correlation is positive\")\n",
        "elif correlation < 0:\n",
        "    print(\"correlation is negative\")\n",
        "else:\n",
        "    print(\"There is no correlation\")\n",
        "\n",
        "print(\"P value is:\", valor_p)\n",
        "\n",
        "if valor_p < 0.05:\n",
        "    print(\"Correlation is important enough\")\n",
        "else:\n",
        "    print(\"Correlation is not important enough!\")"
      ],
      "metadata": {
        "colab": {
          "base_uri": "https://localhost:8080/",
          "height": 0
        },
        "id": "3kcHiwHPh_LO",
        "outputId": "8cb4b3cc-fe63-4beb-fc87-96fe86bbd5ba"
      },
      "execution_count": 37,
      "outputs": [
        {
          "output_type": "stream",
          "name": "stdout",
          "text": [
            "Correlation between prd 1 and prd 2 is: -0.13873579196471433\n",
            "correlation is negative\n",
            "P value is: 0.4566854379192464\n",
            "Correlation is not important enough!\n"
          ]
        }
      ]
    },
    {
      "cell_type": "markdown",
      "source": [
        "# Activity 1:\n",
        "**Show off a graph you consider relevant about data sheet**"
      ],
      "metadata": {
        "id": "NLBViQEiPryX"
      }
    },
    {
      "cell_type": "markdown",
      "source": [
        "I choose trending changes focused on just one product! this can be useful to try to find out patterns. Also I did this graph cause is simple to understand and make"
      ],
      "metadata": {
        "id": "h1udmCniQDah"
      }
    },
    {
      "cell_type": "code",
      "source": [
        "prd_1 = df[df['Producto'] == 'Producto 1']\n",
        "#Get prd1 with df within df as param inside product equals the product I want to graph"
      ],
      "metadata": {
        "id": "R5V-QxmIGqJZ"
      },
      "execution_count": 38,
      "outputs": []
    },
    {
      "cell_type": "code",
      "source": [
        "prd_1['Fecha'] = pd.to_datetime(prd_1['Fecha'])\n",
        "#https://pandas.pydata.org/docs/reference/api/pandas.to_datetime.html#pandas.to_datetime METHOD DATETIME"
      ],
      "metadata": {
        "colab": {
          "base_uri": "https://localhost:8080/",
          "height": 0
        },
        "id": "IO0e-VFrGsah",
        "outputId": "33a78cbe-873b-44e7-945d-413c55bc6e49"
      },
      "execution_count": 39,
      "outputs": [
        {
          "output_type": "stream",
          "name": "stderr",
          "text": [
            "<ipython-input-39-0755a91b1aa8>:1: UserWarning: Parsing dates in DD/MM/YYYY format when dayfirst=False (the default) was specified. This may lead to inconsistently parsed dates! Specify a format to ensure consistent parsing.\n",
            "  prd_1['Fecha'] = pd.to_datetime(prd_1['Fecha'])\n",
            "<ipython-input-39-0755a91b1aa8>:1: SettingWithCopyWarning: \n",
            "A value is trying to be set on a copy of a slice from a DataFrame.\n",
            "Try using .loc[row_indexer,col_indexer] = value instead\n",
            "\n",
            "See the caveats in the documentation: https://pandas.pydata.org/pandas-docs/stable/user_guide/indexing.html#returning-a-view-versus-a-copy\n",
            "  prd_1['Fecha'] = pd.to_datetime(prd_1['Fecha'])\n"
          ]
        }
      ]
    },
    {
      "cell_type": "code",
      "source": [
        "prd_1 = prd_1.sort_values(by='Fecha')\n",
        "#https://youtu.be/n3m2tL_5YRQ This is useful to get data according to fecha param"
      ],
      "metadata": {
        "id": "i1pBwC1OGvGS"
      },
      "execution_count": 40,
      "outputs": []
    },
    {
      "cell_type": "code",
      "source": [
        "plt.figure(figsize=(8, 6)) #size of grapgh\n",
        "plt.plot(prd_1['Fecha'], prd_1['inventario'], marker='o', linestyle='-', color='g') # ploting method with each param as a part of headers and styling\n",
        "plt.title('Product 1 in stock trending') #title\n",
        "plt.xlabel('Date') #date in X axis\n",
        "plt.ylabel('Quantity available in stock') # inventario at Y axis\n",
        "plt.grid(True) # set a grid just to make it easier to read\n",
        "plt.show() # print"
      ],
      "metadata": {
        "colab": {
          "base_uri": "https://localhost:8080/",
          "height": 564
        },
        "id": "ObVsTEP6GxU-",
        "outputId": "614e2fe8-9ada-4472-f3fa-80aaa57c71d5"
      },
      "execution_count": 41,
      "outputs": [
        {
          "output_type": "display_data",
          "data": {
            "text/plain": [
              "<Figure size 800x600 with 1 Axes>"
            ],
            "image/png": "[encoded data removed]"
          },
          "metadata": {}
        }
      ]
    },
    {
      "cell_type": "markdown",
      "source": [
        "# Activity 2\n",
        "**Find out the best way to get lower the rows without losing data, so with this newer data answer median, mode, std and 3rd quantile**"
      ],
      "metadata": {
        "id": "91vpXI_kqG1R"
      }
    },
    {
      "cell_type": "code",
      "source": [
        "optimized = defaultdict(int) # CREATE a dictionary"
      ],
      "metadata": {
        "id": "lTYGyUycqHrr"
      },
      "execution_count": 42,
      "outputs": []
    },
    {
      "cell_type": "code",
      "source": [
        "for fecha, producto, _, inventario, _ in data:\n",
        "    key = (fecha, producto)\n",
        "    optimized[key] += inventario\n",
        "# This FOR works to iterate for each column, inside the for we have a key that is useful to mix variables"
      ],
      "metadata": {
        "id": "2_DG3NXMrNBl"
      },
      "execution_count": 43,
      "outputs": []
    },
    {
      "cell_type": "code",
      "source": [
        "optimized_data = [(fecha, producto, inventario) for (fecha, producto), inventario in optimized.items()]\n",
        "print(optimized_data) #main goal is get a new tuple with data optimized"
      ],
      "metadata": {
        "colab": {
          "base_uri": "https://localhost:8080/",
          "height": 0
        },
        "id": "4UB1pJMhrUw5",
        "outputId": "14130343-e516-4121-cfce-e1bb29b51e2a"
      },
      "execution_count": 44,
      "outputs": [
        {
          "output_type": "stream",
          "name": "stdout",
          "text": [
            "[('29/01/2023', 'Producto 4', 140), ('10/01/2023', 'Producto 5', 60), ('11/01/2023', 'Producto 5', -8), ('15/01/2023', 'Producto 4', 120), ('26/01/2023', 'Producto 2', 80), ('12/01/2023', 'Producto 5', 700), ('13/01/2023', 'Producto 1', 850), ('06/01/2023', 'Producto 2', 104), ('25/01/2023', 'Producto 2', 80), ('28/01/2023', 'Producto 1', 300), ('25/01/2023', 'Producto 5', 268), ('23/01/2023', 'Producto 3', 3), ('11/01/2023', 'Producto 4', 120), ('28/01/2023', 'Producto 2', 80), ('31/01/2023', 'Producto 2', 80), ('10/01/2023', 'Producto 1', 800), ('07/01/2023', 'Producto 1', 800), ('20/01/2023', 'Producto 4', 150), ('04/01/2023', 'Producto 5', 78), ('30/01/2023', 'Producto 3', 6), ('23/01/2023', 'Producto 1', 750), ('28/01/2023', 'Producto 4', 140), ('17/01/2023', 'Producto 1', 850), ('31/01/2023', 'Producto 3', 4), ('27/01/2023', 'Producto 1', 300), ('20/01/2023', 'Producto 5', 3), ('12/01/2023', 'Producto 4', 120), ('16/01/2023', 'Producto 5', 200), ('14/01/2023', 'Producto 2', 184), ('15/01/2023', 'Producto 5', 700), ('09/01/2023', 'Producto 2', 104), ('17/01/2023', 'Producto 2', 184), ('14/01/2023', 'Producto 1', 850), ('08/01/2023', 'Producto 1', 800), ('22/01/2023', 'Producto 3', 3), ('04/01/2023', 'Producto 1', 800), ('13/01/2023', 'Producto 2', 174), ('26/01/2023', 'Producto 1', 300), ('29/01/2023', 'Producto 1', 300), ('29/01/2023', 'Producto 3', 4), ('19/01/2023', 'Producto 3', 4), ('26/01/2023', 'Producto 4', 140), ('17/01/2023', 'Producto 4', 145), ('17/01/2023', 'Producto 5', 360), ('18/01/2023', 'Producto 3', 4), ('13/01/2023', 'Producto 5', 700), ('22/01/2023', 'Producto 4', 150), ('05/01/2023', 'Producto 2', 80), ('09/01/2023', 'Producto 1', 800), ('16/01/2023', 'Producto 2', 184), ('31/01/2023', 'Producto 4', 140), ('02/01/2023', 'Producto 2', 53), ('23/01/2023', 'Producto 5', 3), ('30/01/2023', 'Producto 2', 80), ('31/01/2023', 'Producto 1', 300), ('14/01/2023', 'Producto 3', 2), ('18/01/2023', 'Producto 4', 150), ('24/01/2023', 'Producto 2', 184), ('25/01/2023', 'Producto 4', 140), ('08/01/2023', 'Producto 5', 20), ('09/01/2023', 'Producto 5', 426), ('24/01/2023', 'Producto 4', 140), ('18/01/2023', 'Producto 5', 90), ('07/01/2023', 'Producto 5', 300), ('02/01/2023', 'Producto 3', 5), ('15/01/2023', 'Producto 3', 5), ('18/01/2023', 'Producto 1', 750), ('27/01/2023', 'Producto 4', 140), ('05/01/2023', 'Producto 5', 600), ('01/01/2023', 'Producto 1', 800), ('19/01/2023', 'Producto 5', 70), ('03/01/2023', 'Producto 3', 3), ('03/01/2023', 'Producto 1', 800), ('21/01/2023', 'Producto 2', 184), ('03/01/2023', 'Producto 5', 1), ('30/01/2023', 'Producto 1', 300), ('15/01/2023', 'Producto 2', 184), ('21/01/2023', 'Producto 3', 4), ('20/01/2023', 'Producto 2', 184), ('02/01/2023', 'Producto 1', 800), ('29/01/2023', 'Producto 5', 269), ('21/01/2023', 'Producto 5', 3), ('09/01/2023', 'Producto 4', 115), ('30/01/2023', 'Producto 4', 140), ('21/01/2023', 'Producto 4', 150), ('22/01/2023', 'Producto 5', 3), ('20/01/2023', 'Producto 3', 4), ('14/01/2023', 'Producto 5', 700), ('19/01/2023', 'Producto 2', 184), ('19/01/2023', 'Producto 1', 750), ('23/01/2023', 'Producto 4', 150), ('02/01/2023', 'Producto 5', 90), ('06/01/2023', 'Producto 5', 50), ('27/01/2023', 'Producto 5', 27), ('16/01/2023', 'Producto 1', 850), ('11/01/2023', 'Producto 1', 800), ('24/01/2023', 'Producto 1', 750), ('04/01/2023', 'Producto 2', 80), ('06/01/2023', 'Producto 1', 800), ('08/01/2023', 'Producto 2', 104), ('17/01/2023', 'Producto 3', 4), ('01/01/2023', 'Producto 2', 60), ('10/01/2023', 'Producto 4', 120), ('26/01/2023', 'Producto 5', 65), ('31/01/2023', 'Producto 5', 200), ('16/01/2023', 'Producto 4', 145), ('23/01/2023', 'Producto 2', 184), ('18/01/2023', 'Producto 2', 184), ('07/01/2023', 'Producto 2', 104), ('30/01/2023', 'Producto 5', 3), ('25/01/2023', 'Producto 1', 750), ('12/01/2023', 'Producto 2', 104), ('12/01/2023', 'Producto 1', 850), ('05/01/2023', 'Producto 1', 800), ('01/01/2023', 'Producto 5', 23), ('04/01/2023', 'Producto 3', 4), ('20/01/2023', 'Producto 1', 750), ('19/01/2023', 'Producto 4', 150), ('27/01/2023', 'Producto 2', 80), ('03/01/2023', 'Producto 2', 80), ('22/01/2023', 'Producto 2', 184), ('10/01/2023', 'Producto 2', 104), ('14/01/2023', 'Producto 4', 120), ('01/01/2023', 'Producto 3', 2), ('28/01/2023', 'Producto 5', 269), ('22/01/2023', 'Producto 1', 750), ('13/01/2023', 'Producto 4', 120), ('29/01/2023', 'Producto 2', 80), ('24/01/2023', 'Producto 5', 3), ('16/01/2023', 'Producto 3', 6), ('15/01/2023', 'Producto 1', 850), ('21/01/2023', 'Producto 1', 750), ('11/01/2023', 'Producto 2', 104)]\n"
          ]
        }
      ]
    },
    {
      "cell_type": "code",
      "source": [
        "df_new = pd.DataFrame(optimized_data, columns=['Date', 'Product', 'Quantity']) # new columns"
      ],
      "metadata": {
        "id": "DL3j2tWgrZh_"
      },
      "execution_count": 45,
      "outputs": []
    },
    {
      "cell_type": "markdown",
      "source": [
        "**Get median**"
      ],
      "metadata": {
        "id": "jn7kmk2X0skV"
      }
    },
    {
      "cell_type": "code",
      "source": [
        "medians_x_prd = df_new.groupby('Product')['Quantity'].median().reset_index()\n",
        "print(medians_x_prd)"
      ],
      "metadata": {
        "colab": {
          "base_uri": "https://localhost:8080/",
          "height": 0
        },
        "id": "YUxaUgi0ssyx",
        "outputId": "d4630ea7-affc-443b-fab9-8b7a41676af8"
      },
      "execution_count": 46,
      "outputs": [
        {
          "output_type": "stream",
          "name": "stdout",
          "text": [
            "      Product  Quantity\n",
            "0  Producto 1     800.0\n",
            "1  Producto 2     104.0\n",
            "2  Producto 3       4.0\n",
            "3  Producto 4     140.0\n",
            "4  Producto 5      78.0\n"
          ]
        }
      ]
    },
    {
      "cell_type": "markdown",
      "source": [
        "**Get mode**"
      ],
      "metadata": {
        "id": "cYjLM0_atBOX"
      }
    },
    {
      "cell_type": "code",
      "source": [
        "mode_by_prd = df_new.groupby('Product')['Quantity'].apply(lambda x: x.mode().iloc[0] if not x.mode().empty else None)\n",
        "print(mode_by_prd)"
      ],
      "metadata": {
        "colab": {
          "base_uri": "https://localhost:8080/",
          "height": 0
        },
        "id": "LZ6tSwRFvdFt",
        "outputId": "2d1e7940-e560-491b-e403-9eec96c26cfb"
      },
      "execution_count": 47,
      "outputs": [
        {
          "output_type": "stream",
          "name": "stdout",
          "text": [
            "Product\n",
            "Producto 1    800\n",
            "Producto 2    184\n",
            "Producto 3      4\n",
            "Producto 4    140\n",
            "Producto 5      3\n",
            "Name: Quantity, dtype: int64\n"
          ]
        }
      ]
    }
  ]
}